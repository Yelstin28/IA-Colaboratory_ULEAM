{
  "nbformat": 4,
  "nbformat_minor": 0,
  "metadata": {
    "colab": {
      "provenance": [],
      "authorship_tag": "ABX9TyMyp2RWmbBTbOo9r5jRJEeh",
      "include_colab_link": true
    },
    "kernelspec": {
      "name": "python3",
      "display_name": "Python 3"
    },
    "language_info": {
      "name": "python"
    }
  },
  "cells": [
    {
      "cell_type": "markdown",
      "metadata": {
        "id": "view-in-github",
        "colab_type": "text"
      },
      "source": [
        "<a href=\"https://colab.research.google.com/github/Yelstin28/IA-Colaboratory_ULEAM/blob/main/Practica_numpy_YEMR.ipynb\" target=\"_parent\"><img src=\"https://colab.research.google.com/assets/colab-badge.svg\" alt=\"Open In Colab\"/></a>"
      ]
    },
    {
      "cell_type": "code",
      "execution_count": 6,
      "metadata": {
        "colab": {
          "base_uri": "https://localhost:8080/"
        },
        "id": "139vz6D6JDGl",
        "outputId": "76c0b34a-6299-481a-93a8-52717effc8cc"
      },
      "outputs": [
        {
          "output_type": "stream",
          "name": "stdout",
          "text": [
            "1.22.4\n"
          ]
        }
      ],
      "source": [
        "# 1. Import numpy as np and see the version\n",
        "# your code here\n",
        "import numpy as np\n",
        "print(np.__version__)"
      ]
    },
    {
      "cell_type": "code",
      "source": [
        "# 2. Create a 1D array of numbers from 0 to 9\n",
        "# your code here\n",
        "idArray = np.arange(10)\n",
        "print(idArray)"
      ],
      "metadata": {
        "colab": {
          "base_uri": "https://localhost:8080/"
        },
        "id": "GKSm3AAqYf-W",
        "outputId": "daaea72b-5f1e-44ce-bd00-8f6bdb02d8b6"
      },
      "execution_count": 23,
      "outputs": [
        {
          "output_type": "stream",
          "name": "stdout",
          "text": [
            "[0 1 2 3 4 5 6 7 8 9]\n"
          ]
        }
      ]
    },
    {
      "cell_type": "code",
      "source": [
        "# 3. Create a 3×3 numpy array of all True’s\n",
        "# your code here\n",
        "idArray = np.full((3, 3), True, dtype=bool)\n",
        "print(idArray)"
      ],
      "metadata": {
        "colab": {
          "base_uri": "https://localhost:8080/"
        },
        "id": "bdfp9AhpZhvH",
        "outputId": "77c5c187-c45f-434a-dfec-a47246b1ca2b"
      },
      "execution_count": 25,
      "outputs": [
        {
          "output_type": "stream",
          "name": "stdout",
          "text": [
            "[[ True  True  True]\n",
            " [ True  True  True]\n",
            " [ True  True  True]]\n"
          ]
        }
      ]
    },
    {
      "cell_type": "code",
      "source": [
        "# 4. Extract all odd numbers from arr\n",
        "# your code here\n",
        "idArray = np.array([[19, 25, -36],\n",
        "                [-48, 57, 60],\n",
        "                [-75, -84, -93]])\n",
        "odd_numbers = idArray[idArray % 4 != 0]\n",
        "print(odd_numbers)"
      ],
      "metadata": {
        "colab": {
          "base_uri": "https://localhost:8080/"
        },
        "id": "VAgKn4abcqC_",
        "outputId": "27f4692f-baf5-4e7f-84ed-dccf64ffb2ab"
      },
      "execution_count": 42,
      "outputs": [
        {
          "output_type": "stream",
          "name": "stdout",
          "text": [
            "[ 19  25  57 -75 -93]\n"
          ]
        }
      ]
    },
    {
      "cell_type": "code",
      "source": [
        "# 5. Replace all odd numbers in arr with -1\n",
        "# your code here\n",
        "idArray = np.array([[19, 25, -36],\n",
        "                [-48, 57, 60],\n",
        "                [-75, -84, -93]])\n",
        "idArray[idArray % 2 != 0] = -1\n",
        "print(idArray)"
      ],
      "metadata": {
        "colab": {
          "base_uri": "https://localhost:8080/"
        },
        "id": "7bKs_AxFgkEw",
        "outputId": "04032e40-e70e-474b-8111-feba0202c91a"
      },
      "execution_count": 43,
      "outputs": [
        {
          "output_type": "stream",
          "name": "stdout",
          "text": [
            "[[ -1  -1 -36]\n",
            " [-48  -1  60]\n",
            " [ -1 -84  -1]]\n"
          ]
        }
      ]
    },
    {
      "cell_type": "code",
      "source": [
        "#  6. Convert a 1D array to a 2D array with 2 rows\n",
        "# your code here\n",
        "idArray_1d = np.array([19, 25, 36, 48, 57, 60])\n",
        "idArray_2d = idArray_1d.reshape(2, -1)\n",
        "print(idArray_2d)\n"
      ],
      "metadata": {
        "colab": {
          "base_uri": "https://localhost:8080/"
        },
        "id": "J1_MO2y2g-Vt",
        "outputId": "87ac4c64-f2e4-4345-eb03-f9994d842dbf"
      },
      "execution_count": 52,
      "outputs": [
        {
          "output_type": "stream",
          "name": "stdout",
          "text": [
            "[[19 25 36]\n",
            " [48 57 60]]\n"
          ]
        }
      ]
    },
    {
      "cell_type": "code",
      "source": [
        "#  7. Stack arrays a and b vertically\n",
        "# your code here\n",
        "a = np.array([1, 2, 3])\n",
        "b = np.array([4, 5, 6])\n",
        "rVertical = stack_vertically((a, b))\n",
        "print(rVertical)"
      ],
      "metadata": {
        "colab": {
          "base_uri": "https://localhost:8080/"
        },
        "id": "VuhNy4DnkWWX",
        "outputId": "498bdcf4-f8e3-4299-b9b0-7e8df4381b44"
      },
      "execution_count": 71,
      "outputs": [
        {
          "output_type": "stream",
          "name": "stdout",
          "text": [
            "[[1]\n",
            " [2]\n",
            " [3]\n",
            " [4]\n",
            " [5]\n",
            " [6]]\n"
          ]
        }
      ]
    },
    {
      "cell_type": "code",
      "source": [
        "#  8. Stack the arrays a and b horizontally.\n",
        "# your code here\n",
        "a = np.array([1, 2, 3])\n",
        "b = np.array([4, 5, 6])\n",
        "rHorizontal = np.hstack((a, b))\n",
        "print(rHorizontal)"
      ],
      "metadata": {
        "colab": {
          "base_uri": "https://localhost:8080/"
        },
        "id": "ZPhJaznEnA2v",
        "outputId": "b871a8f5-8726-4467-fbcf-846867575a54"
      },
      "execution_count": 70,
      "outputs": [
        {
          "output_type": "stream",
          "name": "stdout",
          "text": [
            "[1 2 3 4 5 6]\n"
          ]
        }
      ]
    },
    {
      "cell_type": "code",
      "source": [
        "#  9. Get all items between 5 and 10 from a.\n",
        "# your code here.\n",
        "a = np.arange(15)\n",
        "print(a)\n",
        "print( )\n",
        "resultado = a[(a >= 6) & (a <= 9)]\n",
        "print(resultado)"
      ],
      "metadata": {
        "colab": {
          "base_uri": "https://localhost:8080/"
        },
        "id": "kQUqe_8Wn-BJ",
        "outputId": "45daf2f3-99b3-43e6-cba9-42d56b6674f9"
      },
      "execution_count": 78,
      "outputs": [
        {
          "output_type": "stream",
          "name": "stdout",
          "text": [
            "[ 0  1  2  3  4  5  6  7  8  9 10 11 12 13 14]\n",
            "\n",
            "[6 7 8 9]\n"
          ]
        }
      ]
    },
    {
      "cell_type": "code",
      "source": [
        "#  10. How to make a python function that handles scalars to work on numpy arrays?\n",
        "# Hint\n",
        "# Desired Output:\n",
        "#a = np.array([5, 7, 9, 8, 6, 4, 5])\n",
        "#b = np.array([6, 3, 4, 8, 9, 7, 1])\n",
        "#b = np.array([6, 3, 4, 8, 9, 7, 1])\n",
        "#pair_max(a, b)\n",
        "#array([ 6.,  7.,  9.,  8.,  9.,  7.,  5.])\n",
        "# your code here\n",
        "def pair_max(a, b):\n",
        "    return np.maximum(a, b)\n",
        "a = np.array([5, 7, 9, 8, 6, 4, 5])\n",
        "b = np.array([6, 3, 4, 8, 9, 7, 1])\n",
        "resultado = pair_max(a, b)\n",
        "print(resultado)"
      ],
      "metadata": {
        "colab": {
          "base_uri": "https://localhost:8080/"
        },
        "id": "JpeJhlGmoVL3",
        "outputId": "b0961244-5c1e-4eae-fbe0-c32bada1e87f"
      },
      "execution_count": 82,
      "outputs": [
        {
          "output_type": "stream",
          "name": "stdout",
          "text": [
            "[6 7 9 8 9 7 5]\n"
          ]
        }
      ]
    },
    {
      "cell_type": "code",
      "source": [
        "#  11. Swap columns 1 and 2 in the array arr.\n",
        "# Hint\n",
        "# Desired Output:\n",
        "# [[0 2 1]\n",
        "#  [3 5 4]\n",
        "#  [6 8 7]]\n",
        "arr = np.arange(9).reshape(3,3)\n",
        "print(arr)\n",
        "# your code here\n",
        "print( )\n",
        "arr[:, [1, 2]] = arr[:, [2, 1]]\n",
        "print(arr)"
      ],
      "metadata": {
        "colab": {
          "base_uri": "https://localhost:8080/"
        },
        "id": "raVaxwFZtLOQ",
        "outputId": "57705ef8-ce01-4cf5-dd39-d92095be7f10"
      },
      "execution_count": 88,
      "outputs": [
        {
          "output_type": "stream",
          "name": "stdout",
          "text": [
            "[[0 1 2]\n",
            " [3 4 5]\n",
            " [6 7 8]]\n",
            "\n",
            "[[0 2 1]\n",
            " [3 5 4]\n",
            " [6 8 7]]\n"
          ]
        }
      ]
    },
    {
      "cell_type": "code",
      "source": [
        "#  12. Create a 2D array of shape 5x3 to contain random decimal numbers between 5 and\n",
        "# Hint\n",
        "# The desired Output should be like the following one:\n",
        "#  [[ 8.50061025  9.10531502  6.85867783]\n",
        "#   [ 9.76262069  9.87717411  7.13466701]\n",
        "#   [ 7.48966403  8.33409158  6.16808631]\n",
        "#   [ 7.75010551  9.94535696  5.27373226]\n",
        "#   [ 8.0850361   5.56165518  7.31244004]]\n",
        "# your code here\n",
        "idArray = np.random.uniform(5, 10, size=(5, 3))\n",
        "print(idArray)\n"
      ],
      "metadata": {
        "colab": {
          "base_uri": "https://localhost:8080/"
        },
        "id": "YjIwKmzFvOXA",
        "outputId": "0828ce9e-066f-4023-c0f3-9449a171b0dc"
      },
      "execution_count": 145,
      "outputs": [
        {
          "output_type": "stream",
          "name": "stdout",
          "text": [
            "[[8.43718644 7.30361204 6.95518432]\n",
            " [9.92496816 9.75408171 7.53948459]\n",
            " [8.06202803 6.84609229 9.52842606]\n",
            " [6.90823166 6.77854227 8.24132439]\n",
            " [5.6813303  8.55507916 7.50054871]]\n"
          ]
        }
      ]
    }
  ]
}