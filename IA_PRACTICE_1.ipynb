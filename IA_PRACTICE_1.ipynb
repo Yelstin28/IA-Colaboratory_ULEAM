{
  "nbformat": 4,
  "nbformat_minor": 0,
  "metadata": {
    "colab": {
      "provenance": [],
      "authorship_tag": "ABX9TyMVW5mb9DUiN6jiZormte+C",
      "include_colab_link": true
    },
    "kernelspec": {
      "name": "python3",
      "display_name": "Python 3"
    },
    "language_info": {
      "name": "python"
    }
  },
  "cells": [
    {
      "cell_type": "markdown",
      "metadata": {
        "id": "view-in-github",
        "colab_type": "text"
      },
      "source": [
        "<a href=\"https://colab.research.google.com/github/Yelstin28/IA-Colaboratory_ULEAM/blob/main/IA_PRACTICE_1.ipynb\" target=\"_parent\"><img src=\"https://colab.research.google.com/assets/colab-badge.svg\" alt=\"Open In Colab\"/></a>"
      ]
    },
    {
      "cell_type": "code",
      "execution_count": 1,
      "metadata": {
        "colab": {
          "base_uri": "https://localhost:8080/"
        },
        "id": "W00d80dsYztj",
        "outputId": "40df51ad-734d-4a01-b11f-1447f5ae66de"
      },
      "outputs": [
        {
          "output_type": "stream",
          "name": "stdout",
          "text": [
            "Python 3.10.11\n"
          ]
        }
      ],
      "source": [
        "!python --version"
      ]
    },
    {
      "cell_type": "markdown",
      "source": [
        "Tipos de datos basicos"
      ],
      "metadata": {
        "id": "7FoKe6n8aqpo"
      }
    },
    {
      "cell_type": "code",
      "source": [
        "sample1=10\n",
        "sample2=2.2\n",
        "sample3='yelstin'\n",
        "\n",
        "print(type(sample1))\n",
        "print(type(sample2))\n",
        "print(type(sample3))\n",
        "\n",
        "print(sample1+sample2)\n",
        "print(sample1*sample2)\n",
        "print(sample1**3)\n",
        "\n",
        "s1=True\n",
        "s2=False\n",
        "\n",
        "#operadores logicos en python\n",
        "print(s1 and s2)\n",
        "print(s1 or s2)\n",
        "print(not s1)\n",
        "print(not s2)\n",
        "\n",
        "#para ver el tamaño de la variable\n",
        "print(len(sample3))\n",
        "\n",
        "#mayuscula\n",
        "print(sample3.upper())\n",
        "\n",
        "#minuscula\n",
        "print(sample3.lower())\n",
        "\n",
        "#modo oracion\n",
        "print(sample3.capitalize())"
      ],
      "metadata": {
        "colab": {
          "base_uri": "https://localhost:8080/"
        },
        "id": "GoDzaoXUas_K",
        "outputId": "446d93fb-ff72-4ab5-e631-64b1db3cc0a2"
      },
      "execution_count": 18,
      "outputs": [
        {
          "output_type": "stream",
          "name": "stdout",
          "text": [
            "<class 'int'>\n",
            "<class 'float'>\n",
            "<class 'str'>\n",
            "12.2\n",
            "22.0\n",
            "1000\n",
            "False\n",
            "True\n",
            "False\n",
            "True\n",
            "7\n",
            "YELSTIN\n",
            "yelstin\n",
            "Yelstin\n"
          ]
        }
      ]
    },
    {
      "cell_type": "code",
      "source": [
        "someList=list()\n",
        "someList=['borrador',1,'goma','mochila', True]\n",
        "print(someList[2])\n",
        "print(len(someList))\n",
        "\n",
        "print('--------------')\n",
        "for a in someList:\n",
        "  print(a)\n",
        "\n",
        "someList.append('regla')  \n",
        "print('--------------')\n",
        "for a in someList:\n",
        "  print(a)\n",
        "\n",
        "someList.pop(2)\n",
        "print('--------------')\n",
        "for a in someList:\n",
        "  print(a)\n",
        "\n",
        "print('--------------')\n",
        "print(someList[1:4])\n",
        "print(someList[-1])  \n",
        "print(someList[:3])\n",
        "\n",
        "\n",
        "   "
      ],
      "metadata": {
        "colab": {
          "base_uri": "https://localhost:8080/"
        },
        "id": "rrIm86sCj3p2",
        "outputId": "5b61f213-dba3-4d95-a378-78da1d9a2c8d"
      },
      "execution_count": 28,
      "outputs": [
        {
          "output_type": "stream",
          "name": "stdout",
          "text": [
            "goma\n",
            "5\n",
            "--------------\n",
            "borrador\n",
            "1\n",
            "goma\n",
            "mochila\n",
            "True\n",
            "--------------\n",
            "borrador\n",
            "1\n",
            "goma\n",
            "mochila\n",
            "True\n",
            "regla\n",
            "--------------\n",
            "borrador\n",
            "1\n",
            "mochila\n",
            "True\n",
            "regla\n",
            "--------------\n",
            "[1, 'mochila', True]\n",
            "regla\n",
            "['borrador', 1, 'mochila']\n"
          ]
        }
      ]
    },
    {
      "cell_type": "code",
      "source": [
        "d={'name':'yelstin','age':21,'city':'Santo Domingo'}\n",
        "print(d['name'])\n",
        "print(d['city'])\n",
        "\n",
        "d['uni']='uleam'\n",
        "print(d['uni'])\n",
        "\n",
        "print('----------------')\n",
        "for key in d:\n",
        "  print(d[key])\n"
      ],
      "metadata": {
        "colab": {
          "base_uri": "https://localhost:8080/"
        },
        "id": "G0bcE_mPnX3B",
        "outputId": "8e1f8474-83be-412b-bdf2-cc93335956f6"
      },
      "execution_count": 36,
      "outputs": [
        {
          "output_type": "stream",
          "name": "stdout",
          "text": [
            "yelstin\n",
            "Santo Domingo\n",
            "uleam\n",
            "----------------\n",
            "yelstin\n",
            "21\n",
            "Santo Domingo\n",
            "uleam\n"
          ]
        }
      ]
    },
    {
      "cell_type": "code",
      "source": [],
      "metadata": {
        "id": "QFj7s3X_s4nX"
      },
      "execution_count": null,
      "outputs": []
    }
  ]
}