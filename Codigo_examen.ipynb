{
  "nbformat": 4,
  "nbformat_minor": 0,
  "metadata": {
    "colab": {
      "provenance": [],
      "authorship_tag": "ABX9TyNI61/DzeyPVYQGZ0sjQlHi",
      "include_colab_link": true
    },
    "kernelspec": {
      "name": "python3",
      "display_name": "Python 3"
    },
    "language_info": {
      "name": "python"
    }
  },
  "cells": [
    {
      "cell_type": "markdown",
      "metadata": {
        "id": "view-in-github",
        "colab_type": "text"
      },
      "source": [
        "<a href=\"https://colab.research.google.com/github/Yelstin28/IA-Colaboratory_ULEAM/blob/main/Codigo_examen.ipynb\" target=\"_parent\"><img src=\"https://colab.research.google.com/assets/colab-badge.svg\" alt=\"Open In Colab\"/></a>"
      ]
    },
    {
      "cell_type": "markdown",
      "source": [
        "CODIGO DEL MODELO ENTRENADO\n",
        "BY: YELSTIN MENESES Y JEFFERSON TANDAZO"
      ],
      "metadata": {
        "id": "g8Hv3_Mk2sfe"
      }
    },
    {
      "cell_type": "code",
      "source": [
        "import sqlite3\n",
        "from flask import Flask, render_template, request\n",
        "import pandas as pd\n",
        "import pickle\n",
        "from flask import Flask, render_template, request, redirect\n",
        "import pandas as pd\n",
        "from sklearn.linear_model import LogisticRegression\n",
        "from sklearn.model_selection import train_test_split\n",
        "app = Flask(__name__)\n",
        "url='https://raw.githubusercontent.com/Sinchiguano/ai_googleColab/main/datasetUleamMl/heart.csv'\n",
        "import pandas as pd\n",
        "dataset=pd.read_csv(url)\n",
        "print('Sex: {}'.format(dataset['Sex'].unique()))\n",
        "print ('ChestPainType: {}'.format(dataset['ChestPainType'].unique()))\n",
        "print ('RestingECG: {}'.format(dataset['RestingECG'].unique()))\n",
        "print ('ExerciseAngina: {}'.format(dataset['ExerciseAngina'].unique()))\n",
        "print ('ST_Slope: {}'.format(dataset['ST_Slope'].unique()))\n",
        "print(\"done....\")\n",
        "print(\"done....\")\n",
        "print(\"done....\")\n",
        "SexNum=[]\n",
        "print('Row Sixze: {}'.format(len(dataset['HeartDisease'])))\n",
        "for i in range(len(dataset['HeartDisease'])):\n",
        "  if dataset['Sex'][i]=='M':\n",
        "    SexNum.append(0)\n",
        "  else:\n",
        "    SexNum.append(1)\n",
        "ChestPainTypeNum=[]\n",
        "for i in range(len(dataset['HeartDisease'])):\n",
        "  if dataset['ChestPainType'][i]=='ATA':\n",
        "    ChestPainTypeNum.append(0)\n",
        "  elif dataset['ChestPainType'][i]=='NAP':\n",
        "    ChestPainTypeNum.append(1)\n",
        "  elif dataset['ChestPainType'][i]=='ASY':\n",
        "     ChestPainTypeNum.append(2)\n",
        "  else:\n",
        "    ChestPainTypeNum.append(3)\n",
        "    RestingEGGNum=[]\n",
        "for i in range(len(dataset['HeartDisease'])):\n",
        "  if dataset['RestingECG'][i]=='Normal':\n",
        "    RestingEGGNum.append(0)\n",
        "  elif dataset['RestingECG'][i]=='ST':\n",
        "     RestingEGGNum.append(1)\n",
        "  else:\n",
        "    RestingEGGNum.append(2)\n",
        "    ExerciseAnginaNum=[]\n",
        "for i in range(len(dataset['HeartDisease'])):\n",
        "  if dataset['ExerciseAngina'][i]=='N':\n",
        "   ExerciseAnginaNum.append(0)\n",
        "  else:\n",
        "    ExerciseAnginaNum.append(1)\n",
        "    ST_SlopeNum=[]\n",
        "for i in range(len(dataset['HeartDisease'])):\n",
        "  if dataset['ST_Slope'][i]=='Up':\n",
        "    ST_SlopeNum.append(0)\n",
        "  elif dataset['ST_Slope'][i]=='Flat':\n",
        "     ST_SlopeNum.append(1)\n",
        "  else:\n",
        "    ST_SlopeNum.append(2)\n",
        "datasetHeart=dataset.copy(deep=True)\n",
        "datasetHeart['Sex']=SexNum\n",
        "datasetHeart['Sex']=SexNum\n",
        "datasetHeart['ChestPainType']=ChestPainTypeNum\n",
        "datasetHeart['RestingECG']=RestingEGGNum\n",
        "datasetHeart['ExerciseAngina']=ExerciseAnginaNum\n",
        "datasetHeart['ST_Slope']=ST_SlopeNum\n",
        "datasetHeart.to_csv('nuevo.csv')\n",
        "x=datasetHeart.drop('HeartDisease',axis=1)\n",
        "y=datasetHeart['HeartDisease']\n",
        "print(x.head(3))\n",
        "from sklearn.preprocessing import StandardScaler\n",
        "scaler=StandardScaler()\n",
        "x=scaler.fit_transform(x)\n",
        "from sklearn.model_selection import train_test_split\n",
        "x_train,x_test,y_train,y_test=train_test_split(x,y,test_size=0.75)\n",
        "from sklearn import metrics\n",
        "from sklearn.linear_model import LogisticRegression\n",
        "model = LogisticRegression()\n",
        "model.fit(x_train,y_train)\n",
        "yPredictionOnTesting=model.predict(x_test)\n",
        "yPredictionOnTraining=model.predict(x_train)\n",
        "from sklearn import metrics\n",
        "@app.route('/')\n",
        "def index():\n",
        "    return render_template('registro.html')\n",
        "@app.route('/registro', methods=['GET', 'POST'])\n",
        "def registro():\n",
        "    if request.method == 'POST':\n",
        "        nombre = request.form['nombre']\n",
        "        contraseña = request.form['contraseña']\n",
        "        return redirect('/Entrada_exitoso')\n",
        "    else:\n",
        "        return render_template('registro.html')\n",
        "@app.route('/Entrada_exitoso')\n",
        "def Entrada_exitoso():\n",
        "    return render_template('index.html')\n",
        "@app.route('/predict', methods=['POST'])\n",
        "def predict():\n",
        "    Age = int(request.form['age'])\n",
        "    Sex = int(request.form['sex'])\n",
        "    ChestPainType = int(request.form['chestPainType'])\n",
        "    RestingBP = int(request.form['restingBP'])\n",
        "    Cholesterol = int(request.form['cholesterol'])\n",
        "    FastingBS = int(request.form['fastingBS'])\n",
        "    RestingECG = int(request.form['restingECG'])\n",
        "    MaxHR = int(request.form['maxHR'])\n",
        "    ExerciseAngina = int(request.form['exerciseAngina'])\n",
        "    Oldpeak = int(request.form['oldpeak'])\n",
        "    ST_Slope = int(request.form['ST_Slope'])\n",
        "    input_data = ([[Age, Sex, ChestPainType, RestingBP, Cholesterol, FastingBS, RestingECG, MaxHR, ExerciseAngina, Oldpeak, ST_Slope ]])\n",
        "    prediction = model.predict(input_data) [0]\n",
        "    return render_template('result.html', prediction=prediction)\n",
        "if __name__ == '__main__':\n",
        "    app.run(debug=True)\n"
      ],
      "metadata": {
        "colab": {
          "base_uri": "https://localhost:8080/"
        },
        "id": "uoQd2-Wz2kf-",
        "outputId": "100fc90c-f049-41ae-8afd-9bc76c2633e8"
      },
      "execution_count": 1,
      "outputs": [
        {
          "output_type": "stream",
          "name": "stdout",
          "text": [
            "Sex: ['M' 'F']\n",
            "ChestPainType: ['ATA' 'NAP' 'ASY' 'TA']\n",
            "RestingECG: ['Normal' 'ST' 'LVH']\n",
            "ExerciseAngina: ['N' 'Y']\n",
            "ST_Slope: ['Up' 'Flat' 'Down']\n",
            "done....\n",
            "done....\n",
            "done....\n",
            "Row Sixze: 918\n",
            "   Age  Sex  ChestPainType  RestingBP  Cholesterol  FastingBS  RestingECG  \\\n",
            "0   40    0              0        140          289          0           0   \n",
            "1   49    1              1        160          180          0           0   \n",
            "2   37    0              0        130          283          0           1   \n",
            "\n",
            "   MaxHR  ExerciseAngina  Oldpeak  ST_Slope  \n",
            "0    172               0      0.0         0  \n",
            "1    156               0      1.0         1  \n",
            "2     98               0      0.0         0  \n",
            " * Serving Flask app '__main__'\n",
            " * Debug mode: on\n"
          ]
        },
        {
          "output_type": "stream",
          "name": "stderr",
          "text": [
            "INFO:werkzeug:\u001b[31m\u001b[1mWARNING: This is a development server. Do not use it in a production deployment. Use a production WSGI server instead.\u001b[0m\n",
            " * Running on http://127.0.0.1:5000\n",
            "INFO:werkzeug:\u001b[33mPress CTRL+C to quit\u001b[0m\n",
            "INFO:werkzeug: * Restarting with stat\n"
          ]
        }
      ]
    }
  ]
}